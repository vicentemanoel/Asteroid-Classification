{
 "cells": [
  {
   "cell_type": "markdown",
   "id": "0a9b0b7f-c166-4e9b-b8a3-7bf277654c2f",
   "metadata": {},
   "source": [
    "# Classification of Asteroids in the 4J-2S-1 Mean-Motion Resonance Using Machine Learning\n",
    "\n",
    "## Introduction\n",
    "\n",
    "This project aims to develop an automated classifier to identify whether an asteroid is trapped in the **4J-2S-1 mean-motion resonance**, a three-body resonance involving **Jupiter and Saturn**. The goal is to provide a predictive tool that, using the asteroid's proper orbital elements (from the AstDyS catalog), can determine the likelihood of resonance without requiring costly numerical simulations.\n",
    "\n",
    "Planetary resonances play a key role in the long-term dynamical evolution and stability of asteroids in the Solar System. However, detecting resonance membership through dynamical analysis is computationally intensive. This project proposes a machine learning approach as a fast and scalable alternative.\n",
    "\n",
    "---\n",
    "\n",
    "## Data Sources\n",
    "\n",
    "- **AstDyS Catalog (`all.syn`)**: Provides proper elements for asteroids such as proper semi-major axis (`a_p`), proper eccentricity (`e_p`), and the sine of the proper inclination (`sin(i_p)`), along with asteroid identification numbers.\n",
    "- **Resonant Asteroid List (`4J-2S-1_up_200000.csv`)**: Contains the identifiers of asteroids previously found to be trapped in the 4J-2S-1 resonance.\n",
    "\n",
    "By combining these datasets, we construct a labeled dataset with binary classification: `resonant` and `non-resonant`.\n",
    "\n",
    "---\n",
    "\n",
    "## Methodology\n",
    "\n",
    "1. **Data Preprocessing**: Extract and clean the data, merge the two lists, and assign binary labels.\n",
    "2. **Model Training** using several supervised learning algorithms, including:\n",
    "   - k-Nearest Neighbors (kNN)\n",
    "   - Decision Tree\n",
    "   - Random Forest\n",
    "   - Gradient Boosting\n",
    "3. **Performance Evaluation** using metrics such as:\n",
    "   - Accuracy\n",
    "   - Precision\n",
    "   - Recall\n",
    "   - F1-score\n",
    "   - Cross-validation\n",
    "4. **Model Selection** based on the highest F1-score and consistent performance across cross-validation folds.\n",
    "\n",
    "---\n",
    "\n",
    "## Final Goal\n",
    "\n",
    "To build a classifier that can take the number of an asteroid listed in the AstDyS catalog and predict whether it is part of the 4J-2S-1 mean-motion resonance. This classifier can be used to assist researchers in rapidly identifying candidate resonant asteroids without full dynamical analysis.\n"
   ]
  },
  {
   "cell_type": "markdown",
   "id": "a0dc8418-bf4c-452f-8d22-2a868dad8fb6",
   "metadata": {},
   "source": [
    "## Import libraries"
   ]
  },
  {
   "cell_type": "code",
   "execution_count": 17,
   "id": "39d30e63-b278-4062-a564-eec8036c294c",
   "metadata": {},
   "outputs": [],
   "source": [
    "import pandas as pd\n",
    "import re\n",
    "from sklearn.model_selection import train_test_split\n",
    "from sklearn.metrics import classification_report, accuracy_score, f1_score\n",
    "from sklearn.ensemble import RandomForestClassifier, GradientBoostingClassifier\n",
    "from sklearn.tree import DecisionTreeClassifier\n",
    "from sklearn.neighbors import KNeighborsClassifier\n",
    "from sklearn.linear_model import LogisticRegression"
   ]
  },
  {
   "cell_type": "markdown",
   "id": "23ec07e9-9f52-4117-af9e-1aa5b96647c1",
   "metadata": {},
   "source": [
    "## 1. Load data \n"
   ]
  },
  {
   "cell_type": "code",
   "execution_count": 6,
   "id": "9c14b59b-6e2f-4e3c-b06d-a337f411a17f",
   "metadata": {},
   "outputs": [],
   "source": [
    "# Carrega lista de elementos próprios no formato AstDyS\n",
    "with open('/home/manoel/Documents/Deep_learning/MML/all.syn', 'r') as f:\n",
    "    lines = f.readlines()\n"
   ]
  },
  {
   "cell_type": "code",
   "execution_count": 8,
   "id": "a0d03868-f616-437b-9ef4-d5e41884e83e",
   "metadata": {},
   "outputs": [],
   "source": [
    "# Pula cabeçalho e extrai colunas importantes (número, a_p, e_p, sin(i_p))\n",
    "columns = ['number', 'a_p', 'e_p', 'sin_i_p']\n",
    "data = []\n",
    "\n",
    "for line in lines:\n",
    "    parts = line.strip().split()\n",
    "    try:\n",
    "        number = int(parts[0])\n",
    "        a_p = float(parts[2])\n",
    "        e_p = float(parts[3])\n",
    "        sin_i_p = float(parts[4])\n",
    "        data.append([number, a_p, e_p, sin_i_p])\n",
    "    except (ValueError, IndexError):\n",
    "        continue  # Ignora linhas mal formatadas ou com dados não numéricos\n",
    "\n",
    "df_elements = pd.DataFrame(data, columns=columns)\n"
   ]
  },
  {
   "cell_type": "code",
   "execution_count": 10,
   "id": "565f97ba-ae03-463c-9f05-80eb2563bf5c",
   "metadata": {},
   "outputs": [],
   "source": [
    "\n",
    "# Carrega a lista de asteroides ressonantes (apenas os números)\n",
    "df_resonant = pd.read_csv('/home/manoel/Documents/Deep_learning/MML/4J-2S-1_up_200000.csv', header=None, names=['number'])"
   ]
  },
  {
   "cell_type": "markdown",
   "id": "f2b6461b-210f-4edf-b17f-ec2d42671aef",
   "metadata": {},
   "source": [
    "## 2. Label creation (resonant / non-resonant)\n"
   ]
  },
  {
   "cell_type": "code",
   "execution_count": 11,
   "id": "be89a352-5b29-4b5b-ac14-faa283d40f80",
   "metadata": {},
   "outputs": [],
   "source": [
    "df_elements['resonant'] = df_elements['number'].isin(df_resonant['number']).astype(int)\n"
   ]
  },
  {
   "cell_type": "markdown",
   "id": "cda75acb-1696-4525-a712-9cf593282fe5",
   "metadata": {},
   "source": [
    "## 3. Train model and avaliation "
   ]
  },
  {
   "cell_type": "code",
   "execution_count": 18,
   "id": "cfa1e3da-81a3-43fa-b631-a5c66077b5d4",
   "metadata": {},
   "outputs": [
    {
     "name": "stdout",
     "output_type": "stream",
     "text": [
      "\n",
      "=== Random Forest ===\n",
      "              precision    recall  f1-score   support\n",
      "\n",
      "non-resonant       1.00      1.00      1.00     92850\n",
      "    resonant       0.49      0.33      0.39       100\n",
      "\n",
      "    accuracy                           1.00     92950\n",
      "   macro avg       0.74      0.66      0.70     92950\n",
      "weighted avg       1.00      1.00      1.00     92950\n",
      "\n",
      "\n",
      "=== Decision Tree ===\n",
      "              precision    recall  f1-score   support\n",
      "\n",
      "non-resonant       1.00      1.00      1.00     92850\n",
      "    resonant       0.40      0.41      0.40       100\n",
      "\n",
      "    accuracy                           1.00     92950\n",
      "   macro avg       0.70      0.70      0.70     92950\n",
      "weighted avg       1.00      1.00      1.00     92950\n",
      "\n",
      "\n",
      "=== KNN ===\n",
      "              precision    recall  f1-score   support\n",
      "\n",
      "non-resonant       1.00      1.00      1.00     92850\n",
      "    resonant       0.42      0.15      0.22       100\n",
      "\n",
      "    accuracy                           1.00     92950\n",
      "   macro avg       0.71      0.57      0.61     92950\n",
      "weighted avg       1.00      1.00      1.00     92950\n",
      "\n",
      "\n",
      "=== Gradient Boosting ===\n",
      "              precision    recall  f1-score   support\n",
      "\n",
      "non-resonant       1.00      1.00      1.00     92850\n",
      "    resonant       0.41      0.93      0.57       100\n",
      "\n",
      "    accuracy                           1.00     92950\n",
      "   macro avg       0.71      0.96      0.78     92950\n",
      "weighted avg       1.00      1.00      1.00     92950\n",
      "\n",
      "\n",
      "=== Logistic Regression ===\n",
      "              precision    recall  f1-score   support\n",
      "\n",
      "non-resonant       1.00      1.00      1.00     92850\n",
      "    resonant       0.00      0.00      0.00       100\n",
      "\n",
      "    accuracy                           1.00     92950\n",
      "   macro avg       0.50      0.50      0.50     92950\n",
      "weighted avg       1.00      1.00      1.00     92950\n",
      "\n"
     ]
    },
    {
     "name": "stderr",
     "output_type": "stream",
     "text": [
      "/home/manoel/.local/lib/python3.8/site-packages/sklearn/metrics/_classification.py:1471: UndefinedMetricWarning: Precision and F-score are ill-defined and being set to 0.0 in labels with no predicted samples. Use `zero_division` parameter to control this behavior.\n",
      "  _warn_prf(average, modifier, msg_start, len(result))\n",
      "/home/manoel/.local/lib/python3.8/site-packages/sklearn/metrics/_classification.py:1471: UndefinedMetricWarning: Precision and F-score are ill-defined and being set to 0.0 in labels with no predicted samples. Use `zero_division` parameter to control this behavior.\n",
      "  _warn_prf(average, modifier, msg_start, len(result))\n",
      "/home/manoel/.local/lib/python3.8/site-packages/sklearn/metrics/_classification.py:1471: UndefinedMetricWarning: Precision and F-score are ill-defined and being set to 0.0 in labels with no predicted samples. Use `zero_division` parameter to control this behavior.\n",
      "  _warn_prf(average, modifier, msg_start, len(result))\n"
     ]
    }
   ],
   "source": [
    "X_train, X_test, y_train, y_test = train_test_split(X, y, stratify=y, test_size=0.2, random_state=42)\n",
    "\n",
    "# === 7. Define e avalia múltiplos classificadores ===\n",
    "models = {\n",
    "    'Random Forest': RandomForestClassifier(random_state=42),\n",
    "    'Decision Tree': DecisionTreeClassifier(random_state=42),\n",
    "    'KNN': KNeighborsClassifier(),\n",
    "    'Gradient Boosting': GradientBoostingClassifier(random_state=42),\n",
    "    'Logistic Regression': LogisticRegression(max_iter=1000)\n",
    "}\n",
    "results = []\n",
    "\n",
    "for name, model in models.items():\n",
    "    model.fit(X_train, y_train)\n",
    "    y_pred = model.predict(X_test)\n",
    "\n",
    "    acc = accuracy_score(y_test, y_pred)\n",
    "    f1 = f1_score(y_test, y_pred)\n",
    "    \n",
    "    print(f\"\\n=== {name} ===\")\n",
    "    print(classification_report(y_test, y_pred, target_names=['non-resonant', 'resonant']))\n",
    "    \n",
    "    results.append((name, acc, f1))"
   ]
  },
  {
   "cell_type": "markdown",
   "id": "8999334a-e94d-4ea0-a8fa-dfa599c09712",
   "metadata": {},
   "source": [
    "## 4. Model comparison table\n"
   ]
  },
  {
   "cell_type": "code",
   "execution_count": 21,
   "id": "2a21ca4a-750c-4da3-85a8-7bee69f21528",
   "metadata": {},
   "outputs": [
    {
     "name": "stdout",
     "output_type": "stream",
     "text": [
      "\n",
      "=== Comparação de Modelos ===\n",
      "                 Model  Accuracy  F1-score\n",
      "3    Gradient Boosting  0.998494  0.570552\n",
      "1        Decision Tree  0.998698  0.403941\n",
      "0        Random Forest  0.998903  0.392857\n",
      "2                  KNN  0.998860  0.220588\n",
      "4  Logistic Regression  0.998924  0.000000\n"
     ]
    }
   ],
   "source": [
    "results_df = pd.DataFrame(results, columns=['Model', 'Accuracy', 'F1-score'])\n",
    "results_df = results_df.sort_values(by='F1-score', ascending=False)\n",
    "print(\"\\n=== Comparação de Modelos ===\")\n",
    "print(results_df)"
   ]
  },
  {
   "cell_type": "markdown",
   "id": "9a8ec334-75b3-4d38-950b-0521c9c40787",
   "metadata": {},
   "source": [
    "##  5. Asteroid classification\n"
   ]
  },
  {
   "cell_type": "code",
   "execution_count": 26,
   "id": "54034030-687f-4d71-aa74-6d96c9ea93a1",
   "metadata": {},
   "outputs": [
    {
     "name": "stdout",
     "output_type": "stream",
     "text": [
      "Asteroide 56731 é classificado como: non-resonant\n"
     ]
    }
   ],
   "source": [
    "# Número do asteroide a ser testado\n",
    "asteroid_number = 56731  # Substitua por qualquer número\n",
    "\n",
    "# Busca os dados orbitais\n",
    "asteroid_data = df_elements[df_elements['number'] == asteroid_number]\n",
    "\n",
    "if not asteroid_data.empty:\n",
    "    features = asteroid_data[['a_p', 'e_p', 'sin_i_p']]\n",
    "    prediction = model.predict(features)[0]\n",
    "    label = 'resonant' if prediction == 1 else 'non-resonant'\n",
    "    print(f'Asteroide {asteroid_number} é classificado como: {label}')\n",
    "else:\n",
    "    print(f'Asteroide {asteroid_number} não encontrado no catálogo.')"
   ]
  },
  {
   "cell_type": "markdown",
   "id": "73776211-adbf-470c-b2d1-eb7d0c00c6a8",
   "metadata": {},
   "source": [
    "## 6. Better model"
   ]
  },
  {
   "cell_type": "code",
   "execution_count": 22,
   "id": "b5a31947-c638-4c9a-aa13-446f136331a8",
   "metadata": {},
   "outputs": [
    {
     "name": "stdout",
     "output_type": "stream",
     "text": [
      "\n",
      "🎯 Melhor modelo: Gradient Boosting\n"
     ]
    }
   ],
   "source": [
    "best_model_name = results_df.iloc[0]['Model']\n",
    "print(f\"\\n🎯 Melhor modelo: {best_model_name}\")\n"
   ]
  },
  {
   "cell_type": "markdown",
   "id": "31a6f5ed-01bd-4783-9ec7-ba7f5085eb6b",
   "metadata": {},
   "source": [
    "## 7. Cross-Validation"
   ]
  },
  {
   "cell_type": "code",
   "execution_count": 23,
   "id": "17bb76f4-8d9e-4b70-be57-b42b156e2b42",
   "metadata": {},
   "outputs": [
    {
     "name": "stdout",
     "output_type": "stream",
     "text": [
      "\n",
      "=== Random Forest ===\n",
      "F1-score (média ± std): 0.3994 ± 0.0430\n",
      "Accuracy (média ± std): 0.9989 ± 0.0001\n",
      "\n",
      "=== Decision Tree ===\n",
      "F1-score (média ± std): 0.4350 ± 0.0265\n",
      "Accuracy (média ± std): 0.9988 ± 0.0001\n",
      "\n",
      "=== KNN ===\n",
      "F1-score (média ± std): 0.2068 ± 0.0480\n",
      "Accuracy (média ± std): 0.9989 ± 0.0000\n",
      "\n",
      "=== Gradient Boosting ===\n",
      "F1-score (média ± std): 0.0114 ± 0.0093\n",
      "Accuracy (média ± std): 0.9989 ± 0.0000\n",
      "\n",
      "=== Logistic Regression ===\n",
      "F1-score (média ± std): 0.0000 ± 0.0000\n",
      "Accuracy (média ± std): 0.9989 ± 0.0000\n",
      "\n",
      "=== Comparação de Modelos com Validação Cruzada ===\n",
      "                 Model  Accuracy  F1-score\n",
      "1        Decision Tree  0.998780  0.435032\n",
      "0        Random Forest  0.998931  0.399441\n",
      "2                  KNN  0.998892  0.206779\n",
      "3    Gradient Boosting  0.998900  0.011415\n",
      "4  Logistic Regression  0.998924  0.000000\n"
     ]
    }
   ],
   "source": [
    "from sklearn.model_selection import cross_val_score\n",
    "from sklearn.model_selection import StratifiedKFold\n",
    "import numpy as np\n",
    "\n",
    "# === Validação cruzada 5-fold ===\n",
    "cv = StratifiedKFold(n_splits=5, shuffle=True, random_state=42)\n",
    "\n",
    "results = []\n",
    "\n",
    "for name, model in models.items():\n",
    "    f1 = cross_val_score(model, X, y, cv=cv, scoring='f1')\n",
    "    acc = cross_val_score(model, X, y, cv=cv, scoring='accuracy')\n",
    "    \n",
    "    print(f\"\\n=== {name} ===\")\n",
    "    print(f\"F1-score (média ± std): {f1.mean():.4f} ± {f1.std():.4f}\")\n",
    "    print(f\"Accuracy (média ± std): {acc.mean():.4f} ± {acc.std():.4f}\")\n",
    "    \n",
    "    results.append((name, acc.mean(), f1.mean()))\n",
    "\n",
    "# === Tabela final comparativa ===\n",
    "results_df = pd.DataFrame(results, columns=['Model', 'Accuracy', 'F1-score'])\n",
    "results_df = results_df.sort_values(by='F1-score', ascending=False)\n",
    "\n",
    "print(\"\\n=== Comparação de Modelos com Validação Cruzada ===\")\n",
    "print(results_df)\n"
   ]
  },
  {
   "cell_type": "markdown",
   "id": "e2a80fed-ef85-495c-a9ea-1d2862d48b61",
   "metadata": {},
   "source": [
    "## Confusion Matrix from cross-validation"
   ]
  },
  {
   "cell_type": "code",
   "execution_count": 28,
   "id": "c22fc669-2c8e-4275-bb54-ff61c57bad70",
   "metadata": {},
   "outputs": [
    {
     "name": "stdout",
     "output_type": "stream",
     "text": [
      "\n",
      "🎯 Melhor modelo: Decision Tree\n",
      "\n"
     ]
    },
    {
     "data": {
      "image/png": "[encoded data removed]",
      "text/plain": [
       "<Figure size 600x500 with 2 Axes>"
      ]
     },
     "metadata": {},
     "output_type": "display_data"
    }
   ],
   "source": [
    "from sklearn.metrics import confusion_matrix\n",
    "import seaborn as sns\n",
    "import matplotlib.pyplot as plt\n",
    "\n",
    "# === Escolhe o melhor modelo com base no F1-score médio ===\n",
    "best_model_name = results_df.iloc[0]['Model']\n",
    "best_model = models[best_model_name]\n",
    "print(f\"\\n🎯 Melhor modelo: {best_model_name}\\n\")\n",
    "\n",
    "# === Treina o melhor modelo com o conjunto de treino ===\n",
    "best_model.fit(X_train, y_train)\n",
    "y_pred = best_model.predict(X_test)\n",
    "\n",
    "# === Gera a matriz de confusão ===\n",
    "cm = confusion_matrix(y_test, y_pred)\n",
    "labels = ['Non-Resonant', 'Resonant']\n",
    "\n",
    "plt.figure(figsize=(6, 5))\n",
    "sns.heatmap(cm, annot=True, fmt='d', cmap='Blues', xticklabels=labels, yticklabels=labels)\n",
    "plt.xlabel('Predicted')\n",
    "plt.ylabel('Actual')\n",
    "plt.title(f'Confusion Matrix - {best_model_name}')\n",
    "plt.tight_layout()\n",
    "plt.show()\n"
   ]
  },
  {
   "cell_type": "code",
   "execution_count": null,
   "id": "f0664ecc-e6e3-4f5f-bfe0-1700b460b894",
   "metadata": {},
   "outputs": [],
   "source": []
  }
 ],
 "metadata": {
  "kernelspec": {
   "display_name": "Python 3 (ipykernel)",
   "language": "python",
   "name": "python3"
  },
  "language_info": {
   "codemirror_mode": {
    "name": "ipython",
    "version": 3
   },
   "file_extension": ".py",
   "mimetype": "text/x-python",
   "name": "python",
   "nbconvert_exporter": "python",
   "pygments_lexer": "ipython3",
   "version": "3.8.10"
  }
 },
 "nbformat": 4,
 "nbformat_minor": 5
}
